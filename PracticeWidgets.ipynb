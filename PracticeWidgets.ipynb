{
 "cells": [
  {
   "cell_type": "markdown",
   "id": "d25fb952-3616-4607-8598-78589e87a20c",
   "metadata": {},
   "source": [
    "<style>\n",
    ".code_cell .input {\n",
    "    display: none;\n",
    "}\n",
    "</style>\n",
    "\n",
    "# Interactive Report\n",
    "\n",
    "This report allows you to interactively adjust the parameters of a sine wave plot.\n",
    "Use the Sliders below to change the frequency and amplitude of the sine wave."
   ]
  },
  {
   "cell_type": "code",
   "execution_count": 17,
   "id": "140ce19e-a01b-4cbc-9e0a-4f61333dc0f2",
   "metadata": {},
   "outputs": [
    {
     "data": {
      "application/vnd.jupyter.widget-view+json": {
       "model_id": "d0b4b69a4c184e64bc3d3af427247240",
       "version_major": 2,
       "version_minor": 0
      },
      "text/plain": [
       "interactive(children=(FloatSlider(value=1.0, description='Frequency', max=5.0, min=0.1), FloatSlider(value=1.0…"
      ]
     },
     "metadata": {},
     "output_type": "display_data"
    },
    {
     "data": {
      "text/plain": [
       "<function __main__.plot_sine_wave(frequency=1.0, amplitude=1.0)>"
      ]
     },
     "execution_count": 17,
     "metadata": {},
     "output_type": "execute_result"
    }
   ],
   "source": [
    "import ipywidgets as widgets\n",
    "from ipywidgets import interact, interactive, fixed, interact_manual\n",
    "import matplotlib.pyplot as plt\n",
    "import numpy as np\n",
    "\n",
    "def plot_sine_wave(frequency = 1.0, amplitude = 1.0):\n",
    "    x = np.linspace(0, 10, 1000)\n",
    "    y = amplitude * np.sin(frequency * x)\n",
    "\n",
    "    plt.figure(figsize=(10,7))\n",
    "    plt.plot(x, y)\n",
    "    plt.title(\"Interactive Sine-Wave Plot\")\n",
    "    plt.xlabel(\"X-Axis\")\n",
    "    plt.ylabel(\"Y-Axis\")\n",
    "    plt.show()\n",
    "\n",
    "\n",
    "# Create the interactive widgets\n",
    "frequency_slider = widgets.FloatSlider(value=1.0, min = .1, max = 5.0, step = .1, description=\"Frequency\")\n",
    "amplitude_slider = widgets.FloatSlider(value=1.0, min = .1, max = 5.0, step = .1, description=\"Amplitude\")\n",
    "\n",
    "interact(plot_sine_wave, frequency=frequency_slider, amplitude=amplitude_slider)\n"
   ]
  },
  {
   "cell_type": "code",
   "execution_count": null,
   "id": "e23263e2-e1af-4151-b5ee-a268c04e9852",
   "metadata": {},
   "outputs": [],
   "source": []
  }
 ],
 "metadata": {
  "kernelspec": {
   "display_name": "Python 3 (ipykernel)",
   "language": "python",
   "name": "python3"
  },
  "language_info": {
   "codemirror_mode": {
    "name": "ipython",
    "version": 3
   },
   "file_extension": ".py",
   "mimetype": "text/x-python",
   "name": "python",
   "nbconvert_exporter": "python",
   "pygments_lexer": "ipython3",
   "version": "3.11.7"
  }
 },
 "nbformat": 4,
 "nbformat_minor": 5
}
